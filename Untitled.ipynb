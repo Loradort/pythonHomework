{
 "cells": [
  {
   "cell_type": "code",
   "execution_count": null,
   "id": "ec22d644-85b0-4abe-b0c5-740639c99af6",
   "metadata": {},
   "outputs": [],
   "source": [
    "class Quene:\n",
    "    def __init__(self):\n",
    "        self.items = []\n",
    "        \n",
    "    def isEmpty(self):\n",
    "        return self.items == []\n",
    "    \n",
    "    def enquene(self, item):\n",
    "        self.items.insert(0,item)\n",
    "        \n",
    "    def  dequene(self):\n",
    "        return self.items.pop()\n",
    "    \n",
    "    def size(self):\n",
    "        \n",
    "      \n",
    "    \n",
    "    \n",
    "    "
   ]
  }
 ],
 "metadata": {
  "kernelspec": {
   "display_name": "Python 3 (ipykernel)",
   "language": "python",
   "name": "python3"
  },
  "language_info": {
   "codemirror_mode": {
    "name": "ipython",
    "version": 3
   },
   "file_extension": ".py",
   "mimetype": "text/x-python",
   "name": "python",
   "nbconvert_exporter": "python",
   "pygments_lexer": "ipython3",
   "version": "3.9.13"
  }
 },
 "nbformat": 4,
 "nbformat_minor": 5
}
