{
 "cells": [
  {
   "cell_type": "markdown",
   "id": "349fdfdf-41c4-492d-81ae-1bf17dc31934",
   "metadata": {
    "tags": []
   },
   "source": [
    "### ใบงานที่1:การส่งการบ้านผ่าน Git\n"
   ]
  },
  {
   "cell_type": "raw",
   "id": "dcc8da37-c57f-4781-b55f-2aa8d50f68ad",
   "metadata": {},
   "source": [
    "นาย ปวฤทธิ์ จิตหาญ 6512732107"
   ]
  },
  {
   "cell_type": "code",
   "execution_count": 2,
   "id": "db1ebc8b-055c-4019-9640-ec0efc01beb8",
   "metadata": {},
   "outputs": [
    {
     "name": "stdout",
     "output_type": "stream",
     "text": [
      "Hello, world!\n"
     ]
    }
   ],
   "source": [
    "print(\"Hello, world!\")"
   ]
  },
  {
   "cell_type": "code",
   "execution_count": null,
   "id": "ef454cdf-eef4-48aa-a325-a15cfa6c20d2",
   "metadata": {},
   "outputs": [],
   "source": []
  }
 ],
 "metadata": {
  "kernelspec": {
   "display_name": "Python 3 (ipykernel)",
   "language": "python",
   "name": "python3"
  },
  "language_info": {
   "codemirror_mode": {
    "name": "ipython",
    "version": 3
   },
   "file_extension": ".py",
   "mimetype": "text/x-python",
   "name": "python",
   "nbconvert_exporter": "python",
   "pygments_lexer": "ipython3",
   "version": "3.9.13"
  }
 },
 "nbformat": 4,
 "nbformat_minor": 5
}
